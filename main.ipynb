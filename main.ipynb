{
 "cells": [
  {
   "cell_type": "markdown",
   "id": "7b55058a",
   "metadata": {},
   "source": [
    "## Импорт необходимых библиотек "
   ]
  },
  {
   "cell_type": "code",
   "execution_count": null,
   "id": "9311e523",
   "metadata": {
    "is_executing": true
   },
   "outputs": [],
   "source": [
    "import pandas as pd\n",
    "import numpy as np\n",
    "import matplotlib.pyplot as plt\n",
    "from sklearn.model_selection import train_test_split, GridSearchCV\n",
    "from sklearn.linear_model import LogisticRegression\n",
    "from sklearn.metrics import accuracy_score, precision_score, recall_score, roc_auc_score, roc_curve, fbeta_score\n",
    "from sklearn.preprocessing import MinMaxScaler\n",
    "\n",
    "\n",
    "# Отключение некоторых лишних предупреждений\n",
    "import warnings\n",
    "warnings.filterwarnings(\"ignore\")"
   ]
  },
  {
   "cell_type": "markdown",
   "source": [
    "*ПРИМЕЧАНИЕ: По какой-то причине, если запускать через Run All, то результаты становятся значительно хуже. Части 3 и 4 рекомендуется обрабатывать последовательно, ячейка за ячейкой, чтобы сохранить результаты.*"
   ],
   "metadata": {
    "collapsed": false
   },
   "id": "b81af6e00e58777b"
  },
  {
   "cell_type": "markdown",
   "source": [
    "## Задача "
   ],
   "metadata": {
    "collapsed": false
   },
   "id": "8e5cf1b8"
  },
  {
   "cell_type": "markdown",
   "source": [
    "В данной рабое будет построена предсказательная модель, определяющую пол клиента по его банковским транзакциям.\n",
    "\n",
    "Доступны 2 файла:\n",
    "* __transaction.csv__ - файл с транзакциями, колонки:\n",
    "    * user_id - целочисленный идентификатор пользователя\n",
    "    * dt - дата и время совершения транзации, принцип кодирования: \"DAY TIME\"\n",
    "        * DAY - порядковый день транзации с начала сбора данных\n",
    "        * TIME - время в формате hh:mm:ss\n",
    "    * type - тип (категория) совершаемой транзакции\n",
    "    * value - сумма транзакции\n",
    "    \n",
    "* __gender.csv__ - файл с данными о полах клиентов.\n",
    "    * user_id - целочисленный идентификатор пользователя\n",
    "    * gender - целевая переменная, закодированная лейблами 0 и 1. Это сделано:\n",
    "        * a) для удобства\n",
    "        * б) для избежания холиваров о правильности исходных меток "
   ],
   "metadata": {
    "collapsed": false
   },
   "id": "c6f6920e"
  },
  {
   "cell_type": "markdown",
   "source": [
    "# Часть 1: Минимальная модель"
   ],
   "metadata": {
    "collapsed": false
   },
   "id": "56da0228"
  },
  {
   "cell_type": "markdown",
   "source": [
    "В этой части попробуем построить самую простую модель для предсказания.\n",
    "Будет проведено простое преобразование данных путём простой агрегации данных о величине транзакций. "
   ],
   "metadata": {
    "collapsed": false
   },
   "id": "cb568469"
  },
  {
   "cell_type": "markdown",
   "id": "3d8c2bf8",
   "metadata": {},
   "source": [
    "## Загрузка данных"
   ]
  },
  {
   "cell_type": "code",
   "execution_count": 2,
   "id": "12a08af9",
   "metadata": {},
   "outputs": [
    {
     "data": {
      "text/plain": "    user_id           dt                                               type   \n0  39026145   0 10:23:26  Звонки с использованием телефонов, считывающих...  \\\n1  39026145   6 07:08:31  Звонки с использованием телефонов, считывающих...   \n2  39026145   8 07:06:10  Звонки с использованием телефонов, считывающих...   \n3  39026145  11 08:49:03  Звонки с использованием телефонов, считывающих...   \n4  39026145  11 14:12:08  Звонки с использованием телефонов, считывающих...   \n\n      value  \n0  2695.099  \n1  2358.212  \n2  2807.395  \n3  2695.099  \n4  2695.099  ",
      "text/html": "<div>\n<style scoped>\n    .dataframe tbody tr th:only-of-type {\n        vertical-align: middle;\n    }\n\n    .dataframe tbody tr th {\n        vertical-align: top;\n    }\n\n    .dataframe thead th {\n        text-align: right;\n    }\n</style>\n<table border=\"1\" class=\"dataframe\">\n  <thead>\n    <tr style=\"text-align: right;\">\n      <th></th>\n      <th>user_id</th>\n      <th>dt</th>\n      <th>type</th>\n      <th>value</th>\n    </tr>\n  </thead>\n  <tbody>\n    <tr>\n      <th>0</th>\n      <td>39026145</td>\n      <td>0 10:23:26</td>\n      <td>Звонки с использованием телефонов, считывающих...</td>\n      <td>2695.099</td>\n    </tr>\n    <tr>\n      <th>1</th>\n      <td>39026145</td>\n      <td>6 07:08:31</td>\n      <td>Звонки с использованием телефонов, считывающих...</td>\n      <td>2358.212</td>\n    </tr>\n    <tr>\n      <th>2</th>\n      <td>39026145</td>\n      <td>8 07:06:10</td>\n      <td>Звонки с использованием телефонов, считывающих...</td>\n      <td>2807.395</td>\n    </tr>\n    <tr>\n      <th>3</th>\n      <td>39026145</td>\n      <td>11 08:49:03</td>\n      <td>Звонки с использованием телефонов, считывающих...</td>\n      <td>2695.099</td>\n    </tr>\n    <tr>\n      <th>4</th>\n      <td>39026145</td>\n      <td>11 14:12:08</td>\n      <td>Звонки с использованием телефонов, считывающих...</td>\n      <td>2695.099</td>\n    </tr>\n  </tbody>\n</table>\n</div>"
     },
     "execution_count": 2,
     "metadata": {},
     "output_type": "execute_result"
    }
   ],
   "source": [
    "df_GE = pd.read_csv('gender.csv')\n",
    "df_TR = pd.read_csv('transactions.csv', sep=';')\n",
    "\n",
    "#посмотрим на данные\n",
    "df_TR.head()"
   ]
  },
  {
   "cell_type": "code",
   "execution_count": 3,
   "id": "53199659",
   "metadata": {},
   "outputs": [
    {
     "data": {
      "text/plain": "    user_id  gender\n0   6740969     1.0\n1  36599781     0.0\n2  91453656     1.0\n3  17431962     1.0\n4  72568668     1.0",
      "text/html": "<div>\n<style scoped>\n    .dataframe tbody tr th:only-of-type {\n        vertical-align: middle;\n    }\n\n    .dataframe tbody tr th {\n        vertical-align: top;\n    }\n\n    .dataframe thead th {\n        text-align: right;\n    }\n</style>\n<table border=\"1\" class=\"dataframe\">\n  <thead>\n    <tr style=\"text-align: right;\">\n      <th></th>\n      <th>user_id</th>\n      <th>gender</th>\n    </tr>\n  </thead>\n  <tbody>\n    <tr>\n      <th>0</th>\n      <td>6740969</td>\n      <td>1.0</td>\n    </tr>\n    <tr>\n      <th>1</th>\n      <td>36599781</td>\n      <td>0.0</td>\n    </tr>\n    <tr>\n      <th>2</th>\n      <td>91453656</td>\n      <td>1.0</td>\n    </tr>\n    <tr>\n      <th>3</th>\n      <td>17431962</td>\n      <td>1.0</td>\n    </tr>\n    <tr>\n      <th>4</th>\n      <td>72568668</td>\n      <td>1.0</td>\n    </tr>\n  </tbody>\n</table>\n</div>"
     },
     "execution_count": 3,
     "metadata": {},
     "output_type": "execute_result"
    }
   ],
   "source": [
    "df_GE.head()"
   ]
  },
  {
   "cell_type": "code",
   "execution_count": 4,
   "id": "674d629d",
   "metadata": {
    "scrolled": true
   },
   "outputs": [
    {
     "data": {
      "text/plain": "    user_id           dt                                               type   \n0  39026145   0 10:23:26  Звонки с использованием телефонов, считывающих...  \\\n1  39026145   6 07:08:31  Звонки с использованием телефонов, считывающих...   \n2  39026145   8 07:06:10  Звонки с использованием телефонов, считывающих...   \n3  39026145  11 08:49:03  Звонки с использованием телефонов, считывающих...   \n4  39026145  11 14:12:08  Звонки с использованием телефонов, считывающих...   \n\n      value  gender  \n0  2695.099     1.0  \n1  2358.212     1.0  \n2  2807.395     1.0  \n3  2695.099     1.0  \n4  2695.099     1.0  ",
      "text/html": "<div>\n<style scoped>\n    .dataframe tbody tr th:only-of-type {\n        vertical-align: middle;\n    }\n\n    .dataframe tbody tr th {\n        vertical-align: top;\n    }\n\n    .dataframe thead th {\n        text-align: right;\n    }\n</style>\n<table border=\"1\" class=\"dataframe\">\n  <thead>\n    <tr style=\"text-align: right;\">\n      <th></th>\n      <th>user_id</th>\n      <th>dt</th>\n      <th>type</th>\n      <th>value</th>\n      <th>gender</th>\n    </tr>\n  </thead>\n  <tbody>\n    <tr>\n      <th>0</th>\n      <td>39026145</td>\n      <td>0 10:23:26</td>\n      <td>Звонки с использованием телефонов, считывающих...</td>\n      <td>2695.099</td>\n      <td>1.0</td>\n    </tr>\n    <tr>\n      <th>1</th>\n      <td>39026145</td>\n      <td>6 07:08:31</td>\n      <td>Звонки с использованием телефонов, считывающих...</td>\n      <td>2358.212</td>\n      <td>1.0</td>\n    </tr>\n    <tr>\n      <th>2</th>\n      <td>39026145</td>\n      <td>8 07:06:10</td>\n      <td>Звонки с использованием телефонов, считывающих...</td>\n      <td>2807.395</td>\n      <td>1.0</td>\n    </tr>\n    <tr>\n      <th>3</th>\n      <td>39026145</td>\n      <td>11 08:49:03</td>\n      <td>Звонки с использованием телефонов, считывающих...</td>\n      <td>2695.099</td>\n      <td>1.0</td>\n    </tr>\n    <tr>\n      <th>4</th>\n      <td>39026145</td>\n      <td>11 14:12:08</td>\n      <td>Звонки с использованием телефонов, считывающих...</td>\n      <td>2695.099</td>\n      <td>1.0</td>\n    </tr>\n  </tbody>\n</table>\n</div>"
     },
     "execution_count": 4,
     "metadata": {},
     "output_type": "execute_result"
    }
   ],
   "source": [
    "#объедним в единый df\n",
    "df = pd.merge(df_TR, df_GE)\n",
    "df.head()"
   ]
  },
  {
   "cell_type": "markdown",
   "id": "30426db1",
   "metadata": {},
   "source": [
    "**Проверим на наличие пропусков в данных:**"
   ]
  },
  {
   "cell_type": "code",
   "execution_count": 5,
   "id": "a6f637fe",
   "metadata": {},
   "outputs": [
    {
     "data": {
      "text/plain": "user_id    0\ndt         0\ntype       0\nvalue      0\ngender     0\ndtype: int64"
     },
     "execution_count": 5,
     "metadata": {},
     "output_type": "execute_result"
    }
   ],
   "source": [
    "df.isnull().sum()"
   ]
  },
  {
   "cell_type": "markdown",
   "source": [
    "### Агрегация "
   ],
   "metadata": {
    "collapsed": false
   },
   "id": "567817e8"
  },
  {
   "cell_type": "markdown",
   "source": [
    "Произведём простую агрегацию данных и для каждого пользователя в качестве признаков получим сумму, среднее и стандартное отклонение величины его транзакций. \n",
    "Так же добавим для каждого пользователя колонку с таргетом.\n",
    "\n",
    "По итогу мы должны получить таблицу с колонками:\n",
    "* user_id\n",
    "* value_sum\n",
    "* value_mean\n",
    "* value_std\n",
    "* gender"
   ],
   "metadata": {
    "collapsed": false
   },
   "id": "e3c812ef"
  },
  {
   "cell_type": "code",
   "execution_count": 6,
   "id": "8147a8d4",
   "metadata": {},
   "outputs": [
    {
     "data": {
      "text/plain": "           value_sum   value_mean   value_std  gender\nuser_id                                              \n22899     274383.315  2143.619648  656.186785     1.0\n27914     166436.523  2521.765500  415.972053     1.0\n28753     251578.185  1980.930591  749.304999     0.0\n31385     717856.052  2323.158744  632.491585     0.0\n38084    1360028.958  2095.576206  649.030870     0.0",
      "text/html": "<div>\n<style scoped>\n    .dataframe tbody tr th:only-of-type {\n        vertical-align: middle;\n    }\n\n    .dataframe tbody tr th {\n        vertical-align: top;\n    }\n\n    .dataframe thead th {\n        text-align: right;\n    }\n</style>\n<table border=\"1\" class=\"dataframe\">\n  <thead>\n    <tr style=\"text-align: right;\">\n      <th></th>\n      <th>value_sum</th>\n      <th>value_mean</th>\n      <th>value_std</th>\n      <th>gender</th>\n    </tr>\n    <tr>\n      <th>user_id</th>\n      <th></th>\n      <th></th>\n      <th></th>\n      <th></th>\n    </tr>\n  </thead>\n  <tbody>\n    <tr>\n      <th>22899</th>\n      <td>274383.315</td>\n      <td>2143.619648</td>\n      <td>656.186785</td>\n      <td>1.0</td>\n    </tr>\n    <tr>\n      <th>27914</th>\n      <td>166436.523</td>\n      <td>2521.765500</td>\n      <td>415.972053</td>\n      <td>1.0</td>\n    </tr>\n    <tr>\n      <th>28753</th>\n      <td>251578.185</td>\n      <td>1980.930591</td>\n      <td>749.304999</td>\n      <td>0.0</td>\n    </tr>\n    <tr>\n      <th>31385</th>\n      <td>717856.052</td>\n      <td>2323.158744</td>\n      <td>632.491585</td>\n      <td>0.0</td>\n    </tr>\n    <tr>\n      <th>38084</th>\n      <td>1360028.958</td>\n      <td>2095.576206</td>\n      <td>649.030870</td>\n      <td>0.0</td>\n    </tr>\n  </tbody>\n</table>\n</div>"
     },
     "execution_count": 6,
     "metadata": {},
     "output_type": "execute_result"
    }
   ],
   "source": [
    "df1 = df.copy(deep=True)\n",
    "df1 = df1.groupby(by=['user_id']).agg(value_sum=('value', np.sum),\n",
    "                                     value_mean=('value', np.mean),\n",
    "                                     value_std=('value', np.std),\n",
    "                                     gender=('gender', np.min))\n",
    "df1.head()"
   ]
  },
  {
   "cell_type": "markdown",
   "id": "b4b0bd43",
   "metadata": {},
   "source": [
    "**Проверим на наличие пропусков в данных:**"
   ]
  },
  {
   "cell_type": "code",
   "execution_count": 7,
   "id": "92435b0e",
   "metadata": {},
   "outputs": [
    {
     "data": {
      "text/plain": "value_sum      0\nvalue_mean     0\nvalue_std     47\ngender         0\ndtype: int64"
     },
     "execution_count": 7,
     "metadata": {},
     "output_type": "execute_result"
    }
   ],
   "source": [
    "df1.isnull().sum()"
   ]
  },
  {
   "cell_type": "markdown",
   "id": "2ff495b2",
   "metadata": {},
   "source": [
    "Нули в стандартном отклонении встречаются - заполним их нулями. Если там одно значение, то отклонение нулевое."
   ]
  },
  {
   "cell_type": "code",
   "execution_count": 8,
   "id": "f3e4cef7",
   "metadata": {},
   "outputs": [
    {
     "data": {
      "text/plain": "value_sum     0\nvalue_mean    0\nvalue_std     0\ngender        0\ndtype: int64"
     },
     "execution_count": 8,
     "metadata": {},
     "output_type": "execute_result"
    }
   ],
   "source": [
    "df1.fillna(0, inplace=True)\n",
    "df1.isnull().sum()"
   ]
  },
  {
   "cell_type": "markdown",
   "source": [
    "### Отложенная выборка "
   ],
   "metadata": {
    "collapsed": false
   },
   "id": "194e73a7"
  },
  {
   "cell_type": "markdown",
   "source": [
    "Получим полный список пользователей и разделим их на два списка:\n",
    "* тренировочный список пользователей (80%)\n",
    "* тестовый список пользователей (20%)"
   ],
   "metadata": {
    "collapsed": false
   },
   "id": "d3f431ee"
  },
  {
   "cell_type": "code",
   "execution_count": 9,
   "id": "a74ea5aa",
   "metadata": {},
   "outputs": [],
   "source": [
    "df1_train, df1_test = train_test_split(df1, test_size = 0.2, random_state=40) # делим в пропорции 80 к 20"
   ]
  },
  {
   "cell_type": "markdown",
   "id": "c4e54aa8",
   "metadata": {},
   "source": [
    "Для нашей задачи получим признаки и целевые метки обучающей и тестовой выборки. "
   ]
  },
  {
   "cell_type": "code",
   "execution_count": 10,
   "id": "e947e769",
   "metadata": {},
   "outputs": [],
   "source": [
    "y_train = df1_train['gender'].to_numpy()  \n",
    "y_test = df1_test['gender'].to_numpy()\n",
    "\n",
    "x_train = df1_train.drop('gender', axis=1).to_numpy()\n",
    "x_test = df1_test.drop('gender', axis=1).to_numpy()\n",
    "\n",
    "feature_names1 = df1_train.drop('gender', axis=1).columns"
   ]
  },
  {
   "cell_type": "markdown",
   "id": "852a5e0c",
   "metadata": {},
   "source": [
    "## Обучение и оценка модели"
   ]
  },
  {
   "cell_type": "markdown",
   "id": "0d3a14bb",
   "metadata": {},
   "source": [
    "Обучим модель логистической регрессии с дефолтными параметрами.\n",
    "\n",
    "Получим предсказания вероятностей первого класса."
   ]
  },
  {
   "cell_type": "code",
   "execution_count": 11,
   "id": "9b458875",
   "metadata": {},
   "outputs": [
    {
     "name": "stdout",
     "output_type": "stream",
     "text": [
      "Прогноз по всей выборке: [0.49473942 0.43485618 0.40897428 ... 0.47203794 0.42046731 0.43599846]\n",
      "Средний прогноз: 0.4378477032006456\n"
     ]
    }
   ],
   "source": [
    "#обучаем модель\n",
    "LG = LogisticRegression()\n",
    "LG.fit(x_train, y_train)\n",
    "\n",
    "#прогноз вероятности первого класса\n",
    "p_pred = LG.predict_proba(x_test)[:, 1]\n",
    "print(f'Прогноз по всей выборке: {p_pred}')\n",
    "print(f'Средний прогноз: {p_pred.mean()}')"
   ]
  },
  {
   "cell_type": "markdown",
   "id": "f2345148",
   "metadata": {},
   "source": [
    "### Валидация "
   ]
  },
  {
   "cell_type": "markdown",
   "id": "ee3576b3",
   "metadata": {},
   "source": [
    "Посчитаем ROC_AUC, accuracy, precision, recall для получившихся предсказаний.\n",
    "\n",
    "Для метрик, для которых необходимы метки классов, а не вероятности - используем порог 0.5.\n",
    "\n",
    "Далее при оценки других моделей будем приводить эти же метрики, если явно не потребуется иное."
   ]
  },
  {
   "cell_type": "code",
   "execution_count": 12,
   "id": "286cd527",
   "metadata": {},
   "outputs": [],
   "source": [
    "t = 0.5\n",
    "y_pred = 1*(p_pred >= t) "
   ]
  },
  {
   "cell_type": "markdown",
   "id": "ff26c89b",
   "metadata": {},
   "source": [
    "**ROC_AUC:**"
   ]
  },
  {
   "cell_type": "code",
   "execution_count": 13,
   "id": "39489f03",
   "metadata": {},
   "outputs": [
    {
     "data": {
      "text/plain": "0.5476287990159096"
     },
     "execution_count": 13,
     "metadata": {},
     "output_type": "execute_result"
    }
   ],
   "source": [
    "roc_auc_score(y_test, p_pred)"
   ]
  },
  {
   "cell_type": "markdown",
   "id": "6f5ba6da",
   "metadata": {},
   "source": [
    "Еще нарисуем картинку, чтобы понимать графический результат."
   ]
  },
  {
   "cell_type": "code",
   "execution_count": 14,
   "id": "6dd8d9fa",
   "metadata": {},
   "outputs": [
    {
     "data": {
      "text/plain": "<Figure size 700x700 with 1 Axes>",
      "image/png": "[encoded data removed]"
     },
     "metadata": {},
     "output_type": "display_data"
    }
   ],
   "source": [
    "def roc_auc_pic(y_test, p_pred):\n",
    "    fpr_test, tpr_test, thresholds_test = roc_curve(y_test, p_pred)\n",
    "    roc_auc_test = roc_auc_score(y_test, p_pred)\n",
    "\n",
    "    plt.figure(figsize=(7, 7))\n",
    "    plt.plot(fpr_test, tpr_test, label='Test ROC-AUC {0}'.format(roc_auc_test))\n",
    "    plt.plot([0, 1], [0, 1], '--', color=(0.6, 0.6, 0.6))\n",
    "    plt.xlim([0, 1])\n",
    "    plt.ylim([0, 1])\n",
    "    plt.xlabel('False Positive Rate')\n",
    "    plt.ylabel('True Positive Rate')\n",
    "    plt.legend(loc='lower right')\n",
    "    \n",
    "roc_auc_pic(y_test, p_pred)"
   ]
  },
  {
   "cell_type": "markdown",
   "id": "6be90c62",
   "metadata": {},
   "source": [
    "Площадь под roc-auc - доля верно классифицированных пар объектов. "
   ]
  },
  {
   "cell_type": "markdown",
   "id": "b0b1127b",
   "metadata": {},
   "source": [
    "\n",
    "**Доля верно классифицированных объектов (Accuracy):**"
   ]
  },
  {
   "cell_type": "code",
   "execution_count": 15,
   "id": "826649df",
   "metadata": {},
   "outputs": [
    {
     "data": {
      "text/plain": "0.5364832535885168"
     },
     "execution_count": 15,
     "metadata": {},
     "output_type": "execute_result"
    }
   ],
   "source": [
    "accuracy_score(y_test, y_pred)"
   ]
  },
  {
   "cell_type": "markdown",
   "id": "5ad1d514",
   "metadata": {},
   "source": [
    "В разных ситуациях ошибки имеют разные цены. Accurancy не видит этого, поэтому воспользуемся precision и recall."
   ]
  },
  {
   "cell_type": "markdown",
   "id": "f41ef150",
   "metadata": {},
   "source": [
    "**Точность (precision):**"
   ]
  },
  {
   "cell_type": "code",
   "execution_count": 16,
   "id": "a7466ba6",
   "metadata": {},
   "outputs": [
    {
     "data": {
      "text/plain": "0.6153846153846154"
     },
     "execution_count": 16,
     "metadata": {},
     "output_type": "execute_result"
    }
   ],
   "source": [
    "precision_score(y_test, y_pred)"
   ]
  },
  {
   "cell_type": "markdown",
   "id": "1fa11a06",
   "metadata": {},
   "source": [
    "Отражает то, насколько мы можем доверять алгоритму, если он спрогнозировал единичку."
   ]
  },
  {
   "cell_type": "markdown",
   "id": "20339a65",
   "metadata": {},
   "source": [
    "**Полнота (Recall):**"
   ]
  },
  {
   "cell_type": "code",
   "execution_count": 17,
   "id": "6ca9e4a6",
   "metadata": {},
   "outputs": [
    {
     "data": {
      "text/plain": "0.020486555697823303"
     },
     "execution_count": 17,
     "metadata": {},
     "output_type": "execute_result"
    }
   ],
   "source": [
    "recall_score(y_test, y_pred)"
   ]
  },
  {
   "cell_type": "markdown",
   "id": "90f5582b",
   "metadata": {},
   "source": [
    "Показывает, как много объектов первого класса наш алгоритм находит, то есть метрика демонстрирует способность алгоритма обнаруживать данный класс вообще."
   ]
  },
  {
   "cell_type": "markdown",
   "id": "9c06a7c5",
   "metadata": {},
   "source": [
    "### Вывод"
   ]
  },
  {
   "cell_type": "markdown",
   "id": "6e95c3d8",
   "metadata": {},
   "source": [
    "Модель близка к случайному назначению гендера, что очень плохо и едва ли отличается от подбрасывания монетки.\n",
    "Причина подобного качества состоит в том, что у модели для анализа было только значение суммы трат, которое не даёт никаких отличий между пользователями и не позволяет делить их на категории. К тому же сумма трат, в отличие от категорий трат, едва ли может что-то сказать о гендере пользователя.\n",
    "Вторая причина состоит в том, что параметры модели не оптимизированы и она работает на стандартных параметрах.\n",
    "\n",
    "Иными словами:\n",
    "1) Плохая предобработка данных\n",
    "2) Не заданы параметры модели"
   ]
  },
  {
   "cell_type": "markdown",
   "id": "e94a47be",
   "metadata": {},
   "source": [
    "# Часть 2: Переподготовка данных"
   ]
  },
  {
   "cell_type": "markdown",
   "id": "6724dd97",
   "metadata": {},
   "source": [
    "Давайте попробуем улучшить качество решения задачи за счёт другого метода подготовки данных.\n",
    "\n",
    "Ранее мы использовали простое преобразование, когда каждый клиент описывался только 3 значениями.\n",
    "Давайте сделаем что-то более сложное и попробуем добавить больше данных о клиенте для модели."
   ]
  },
  {
   "cell_type": "markdown",
   "id": "c5cf8456",
   "metadata": {},
   "source": [
    "## Подготовка данных"
   ]
  },
  {
   "cell_type": "markdown",
   "id": "d30f62ce",
   "metadata": {},
   "source": [
    "Воспользуемся тем, что каждая транзакция у нас имеет свой тип - это уж точно более информативно, чем агрегация по всем транзакциям.\n",
    "\n",
    "Создадим сводную таблицу, где для каждого клиента (строка) будут указаны его суммарные траты на каждую категорию (столбец). Таким образом, мы должны получить таблицу с числом строк равным количеству клиентов и числом столбцов - количеству категорий трат. Каждая ячейка должна содержать суммарные траты данного клиента в данной категории."
   ]
  },
  {
   "cell_type": "code",
   "execution_count": 18,
   "id": "a90e86e4",
   "metadata": {},
   "outputs": [
    {
     "data": {
      "text/plain": "type     gender  Авиалинии, авиакомпании   \nuser_id                                    \n22899       1.0                      0.0  \\\n27914       1.0                      0.0   \n28753       0.0                      0.0   \n31385       0.0                      0.0   \n38084       0.0                      0.0   \n\ntype     Авиалинии, авиакомпании, нигде более не классифицированные   \nuser_id                                                               \n22899                                                  0.0           \\\n27914                                                  0.0            \n28753                                                  0.0            \n31385                                                  0.0            \n38084                                                  0.0            \n\ntype     Автобусные линии  Автозапчасти и аксессуары   \nuser_id                                                \n22899                 0.0                        0.0  \\\n27914                 0.0                        0.0   \n28753                 0.0                        0.0   \n31385                 0.0                        0.0   \n38084                 0.0                        0.0   \n\ntype     Автоматизированные бензозаправки  Автомойки  Автошины   \nuser_id                                                          \n22899                                 0.0        0.0       0.0  \\\n27914                                 0.0        0.0       0.0   \n28753                                 0.0        0.0       0.0   \n31385                                 0.0        0.0       0.0   \n38084                                 0.0        0.0       0.0   \n\ntype     Агентства по автотранспортным перевозкам, местные/дальные автогрузоперевозки, компании попереезду и хранению, местная доставка   \nuser_id                                                                                                                                   \n22899                                                  0.0                                                                               \\\n27914                                                  0.0                                                                                \n28753                                                  0.0                                                                                \n31385                                                  0.0                                                                                \n38084                                                  0.0                                                                                \n\ntype     Агентства по аренде автомобилей  ...  Фотостудии, фотолаборатории   \nuser_id                                   ...                                \n22899                                0.0  ...                          0.0  \\\n27914                                0.0  ...                          0.0   \n28753                                0.0  ...                          0.0   \n31385                                0.0  ...                          0.0   \n38084                                0.0  ...                          0.0   \n\ntype     Химикалии и смежные вещества, не классифицированные ранее  Химчистки   \nuser_id                                                                         \n22899                                                  0.0                0.0  \\\n27914                                                  0.0                0.0   \n28753                                                  0.0                0.0   \n31385                                                  0.0                0.0   \n38084                                                  0.0                0.0   \n\ntype     Ценные бумаги: брокеры/дилеры  Центры здоровья   \nuser_id                                                   \n22899                              0.0              0.0  \\\n27914                              0.0              0.0   \n28753                              0.0              0.0   \n31385                              0.0              0.0   \n38084                              0.0              0.0   \n\ntype     Цифровые товары, игры  Школы — бизнес и секретарей  Штрафы   \nuser_id                                                               \n22899                      0.0                          0.0     0.0  \\\n27914                      0.0                          0.0     0.0   \n28753                      0.0                          0.0     0.0   \n31385                      0.0                          0.0     0.0   \n38084                      0.0                          0.0     0.0   \n\ntype     Штучные товары, галантерея и другие текстильные товары   \nuser_id                                                           \n22899                                                  0.0       \\\n27914                                                  0.0        \n28753                                                  0.0        \n31385                                                  0.0        \n38084                                                  0.0        \n\ntype     Электрические части и оборудование  \nuser_id                                      \n22899                                   0.0  \n27914                                   0.0  \n28753                                   0.0  \n31385                                   0.0  \n38084                                   0.0  \n\n[5 rows x 185 columns]",
      "text/html": "<div>\n<style scoped>\n    .dataframe tbody tr th:only-of-type {\n        vertical-align: middle;\n    }\n\n    .dataframe tbody tr th {\n        vertical-align: top;\n    }\n\n    .dataframe thead th {\n        text-align: right;\n    }\n</style>\n<table border=\"1\" class=\"dataframe\">\n  <thead>\n    <tr style=\"text-align: right;\">\n      <th>type</th>\n      <th>gender</th>\n      <th>Авиалинии, авиакомпании</th>\n      <th>Авиалинии, авиакомпании, нигде более не классифицированные</th>\n      <th>Автобусные линии</th>\n      <th>Автозапчасти и аксессуары</th>\n      <th>Автоматизированные бензозаправки</th>\n      <th>Автомойки</th>\n      <th>Автошины</th>\n      <th>Агентства по автотранспортным перевозкам, местные/дальные автогрузоперевозки, компании попереезду и хранению, местная доставка</th>\n      <th>Агентства по аренде автомобилей</th>\n      <th>...</th>\n      <th>Фотостудии, фотолаборатории</th>\n      <th>Химикалии и смежные вещества, не классифицированные ранее</th>\n      <th>Химчистки</th>\n      <th>Ценные бумаги: брокеры/дилеры</th>\n      <th>Центры здоровья</th>\n      <th>Цифровые товары, игры</th>\n      <th>Школы — бизнес и секретарей</th>\n      <th>Штрафы</th>\n      <th>Штучные товары, галантерея и другие текстильные товары</th>\n      <th>Электрические части и оборудование</th>\n    </tr>\n    <tr>\n      <th>user_id</th>\n      <th></th>\n      <th></th>\n      <th></th>\n      <th></th>\n      <th></th>\n      <th></th>\n      <th></th>\n      <th></th>\n      <th></th>\n      <th></th>\n      <th></th>\n      <th></th>\n      <th></th>\n      <th></th>\n      <th></th>\n      <th></th>\n      <th></th>\n      <th></th>\n      <th></th>\n      <th></th>\n      <th></th>\n    </tr>\n  </thead>\n  <tbody>\n    <tr>\n      <th>22899</th>\n      <td>1.0</td>\n      <td>0.0</td>\n      <td>0.0</td>\n      <td>0.0</td>\n      <td>0.0</td>\n      <td>0.0</td>\n      <td>0.0</td>\n      <td>0.0</td>\n      <td>0.0</td>\n      <td>0.0</td>\n      <td>...</td>\n      <td>0.0</td>\n      <td>0.0</td>\n      <td>0.0</td>\n      <td>0.0</td>\n      <td>0.0</td>\n      <td>0.0</td>\n      <td>0.0</td>\n      <td>0.0</td>\n      <td>0.0</td>\n      <td>0.0</td>\n    </tr>\n    <tr>\n      <th>27914</th>\n      <td>1.0</td>\n      <td>0.0</td>\n      <td>0.0</td>\n      <td>0.0</td>\n      <td>0.0</td>\n      <td>0.0</td>\n      <td>0.0</td>\n      <td>0.0</td>\n      <td>0.0</td>\n      <td>0.0</td>\n      <td>...</td>\n      <td>0.0</td>\n      <td>0.0</td>\n      <td>0.0</td>\n      <td>0.0</td>\n      <td>0.0</td>\n      <td>0.0</td>\n      <td>0.0</td>\n      <td>0.0</td>\n      <td>0.0</td>\n      <td>0.0</td>\n    </tr>\n    <tr>\n      <th>28753</th>\n      <td>0.0</td>\n      <td>0.0</td>\n      <td>0.0</td>\n      <td>0.0</td>\n      <td>0.0</td>\n      <td>0.0</td>\n      <td>0.0</td>\n      <td>0.0</td>\n      <td>0.0</td>\n      <td>0.0</td>\n      <td>...</td>\n      <td>0.0</td>\n      <td>0.0</td>\n      <td>0.0</td>\n      <td>0.0</td>\n      <td>0.0</td>\n      <td>0.0</td>\n      <td>0.0</td>\n      <td>0.0</td>\n      <td>0.0</td>\n      <td>0.0</td>\n    </tr>\n    <tr>\n      <th>31385</th>\n      <td>0.0</td>\n      <td>0.0</td>\n      <td>0.0</td>\n      <td>0.0</td>\n      <td>0.0</td>\n      <td>0.0</td>\n      <td>0.0</td>\n      <td>0.0</td>\n      <td>0.0</td>\n      <td>0.0</td>\n      <td>...</td>\n      <td>0.0</td>\n      <td>0.0</td>\n      <td>0.0</td>\n      <td>0.0</td>\n      <td>0.0</td>\n      <td>0.0</td>\n      <td>0.0</td>\n      <td>0.0</td>\n      <td>0.0</td>\n      <td>0.0</td>\n    </tr>\n    <tr>\n      <th>38084</th>\n      <td>0.0</td>\n      <td>0.0</td>\n      <td>0.0</td>\n      <td>0.0</td>\n      <td>0.0</td>\n      <td>0.0</td>\n      <td>0.0</td>\n      <td>0.0</td>\n      <td>0.0</td>\n      <td>0.0</td>\n      <td>...</td>\n      <td>0.0</td>\n      <td>0.0</td>\n      <td>0.0</td>\n      <td>0.0</td>\n      <td>0.0</td>\n      <td>0.0</td>\n      <td>0.0</td>\n      <td>0.0</td>\n      <td>0.0</td>\n      <td>0.0</td>\n    </tr>\n  </tbody>\n</table>\n<p>5 rows × 185 columns</p>\n</div>"
     },
     "execution_count": 18,
     "metadata": {},
     "output_type": "execute_result"
    }
   ],
   "source": [
    "df2 = pd.pivot_table(df, values='value', index=['user_id', 'gender'],\n",
    "                       columns=['type'], aggfunc=np.sum, fill_value=0)\n",
    "df2.reset_index(inplace=True)\n",
    "df2.set_index('user_id', inplace=True, drop=True)\n",
    "df2.head()"
   ]
  },
  {
   "cell_type": "markdown",
   "id": "ad21c6ef",
   "metadata": {},
   "source": [
    "## Обучение и валидация модели"
   ]
  },
  {
   "cell_type": "markdown",
   "id": "39a87010",
   "metadata": {},
   "source": [
    "Аналогично предыдущей части разделим данные на обучающую и тестовую выборку (80%/20%), обучим модель на дефолтных параметрах и оценим качество."
   ]
  },
  {
   "cell_type": "code",
   "execution_count": 19,
   "id": "a183b5a9",
   "metadata": {},
   "outputs": [],
   "source": [
    "df2_train, df2_test = train_test_split(df2, test_size = 0.2, random_state=40) # делим в пропорции 80 к 20"
   ]
  },
  {
   "cell_type": "code",
   "execution_count": 20,
   "id": "531a3f13",
   "metadata": {},
   "outputs": [],
   "source": [
    "y_train = df2_train['gender'].to_numpy()\n",
    "y_test = df2_test['gender'].to_numpy()\n",
    "\n",
    "x_train = df2_train.drop('gender', axis=1).to_numpy()\n",
    "x_test = df2_test.drop('gender', axis=1).to_numpy()\n",
    "\n",
    "feature_names2 = df2_train.drop('gender', axis=1).columns"
   ]
  },
  {
   "cell_type": "code",
   "execution_count": 21,
   "outputs": [
    {
     "name": "stdout",
     "output_type": "stream",
     "text": [
      "Прогноз по всей выборке: [0.94331167 0.89520106 0.13679166 ... 0.77782491 0.70489909 0.78218924]\n",
      "Средний прогноз: 0.46816829674542965\n"
     ]
    }
   ],
   "source": [
    "#обучаем модель\n",
    "LG = LogisticRegression()\n",
    "LG.fit(x_train, y_train)\n",
    "\n",
    "#прогноз вероятности первого класса\n",
    "p_pred = LG.predict_proba(x_test)[:, 1]\n",
    "print(f'Прогноз по всей выборке: {p_pred}')\n",
    "print(f'Средний прогноз: {p_pred.mean()}')"
   ],
   "metadata": {
    "collapsed": false
   },
   "id": "8361812203cf5d3e"
  },
  {
   "cell_type": "code",
   "execution_count": 22,
   "outputs": [],
   "source": [
    "t = 0.5\n",
    "y_pred = 1*(p_pred >= t)"
   ],
   "metadata": {
    "collapsed": false
   },
   "id": "dfb31e7feb7ae476"
  },
  {
   "cell_type": "code",
   "execution_count": 23,
   "outputs": [
    {
     "name": "stdout",
     "output_type": "stream",
     "text": [
      "ROC_AUC: 0.8103865515303842\n",
      "Accuracy: 0.7392344497607656\n",
      "Precision 0.757847533632287\n",
      "Recall: 0.649167733674776\n"
     ]
    }
   ],
   "source": [
    "print('ROC_AUC:', roc_auc_score(y_test, p_pred))\n",
    "print('Accuracy:', accuracy_score(y_test, y_pred))\n",
    "print('Precision', precision_score(y_test, y_pred))\n",
    "print('Recall:', recall_score(y_test, y_pred))"
   ],
   "metadata": {
    "collapsed": false
   },
   "id": "c76bcfaf6fef2991"
  },
  {
   "cell_type": "code",
   "execution_count": 24,
   "outputs": [
    {
     "data": {
      "text/plain": "<Figure size 700x700 with 1 Axes>",
      "image/png": "[encoded data removed]"
     },
     "metadata": {},
     "output_type": "display_data"
    }
   ],
   "source": [
    "def roc_auc_pic(y_test, p_pred):\n",
    "    fpr_test, tpr_test, thresholds_test = roc_curve(y_test, p_pred)\n",
    "    roc_auc_test = roc_auc_score(y_test, p_pred)\n",
    "\n",
    "    plt.figure(figsize=(7, 7))\n",
    "    plt.plot(fpr_test, tpr_test, label='Test ROC-AUC {0}'.format(roc_auc_test))\n",
    "    plt.plot([0, 1], [0, 1], '--', color=(0.6, 0.6, 0.6))\n",
    "    plt.xlim([0, 1])\n",
    "    plt.ylim([0, 1])\n",
    "    plt.xlabel('False Positive Rate')\n",
    "    plt.ylabel('True Positive Rate')\n",
    "    plt.legend(loc='lower right')\n",
    "\n",
    "roc_auc_pic(y_test, p_pred)"
   ],
   "metadata": {
    "collapsed": false
   },
   "id": "58e8f73ba33603b9"
  },
  {
   "cell_type": "markdown",
   "id": "8f67c1fb",
   "metadata": {},
   "source": [
    "### Вывод "
   ]
  },
  {
   "cell_type": "markdown",
   "id": "3988e390",
   "metadata": {},
   "source": [
    "Качество модели значительно улучшилось.\n",
    "В частности использование в качестве данных категории трат и суммы трат в них, позволяет разделить пользователей по данных категориям и находить общие черты по тратам именно в категориях. Соответственно, классы пользователей итмеют между собой какие-то общие категории трат, которые позволяют предположить их гендер. В качестве недостатка, можно предположить, что сумма трат не важна и без неё точность была бы ещё выше.\n",
    "\n",
    "Иными словами, на улучшение работы модели повлияла правильная предобработка данных, увеличившая количество признаков."
   ]
  },
  {
   "cell_type": "markdown",
   "id": "39eb4d89",
   "metadata": {},
   "source": [
    "# Часть 3: Улучшение модели"
   ]
  },
  {
   "cell_type": "markdown",
   "id": "132aaef6",
   "metadata": {},
   "source": [
    "Ранее мы работали только над подготовкой обучающей выборки. Давайте теперь попробуем изменить модель, чтобы добиться наилучшего качества. \n",
    "\n",
    "Входные данные для этой части - выборка с предыдущей."
   ]
  },
  {
   "cell_type": "markdown",
   "id": "381b15b7",
   "metadata": {},
   "source": [
    "## Нормирование данных"
   ]
  },
  {
   "cell_type": "markdown",
   "id": "0a268750",
   "metadata": {},
   "source": [
    "Как мы знаем, линейные модели любят нормированные данные.\n",
    "\n",
    "Приведём значения всех признаков в отрезок [0, 1]"
   ]
  },
  {
   "cell_type": "code",
   "execution_count": 55,
   "id": "7c34f5de",
   "metadata": {},
   "outputs": [
    {
     "data": {
      "text/plain": "type     gender  Авиалинии, авиакомпании   \nuser_id                                    \n22899       1.0                      0.0  \\\n27914       1.0                      0.0   \n28753       0.0                      0.0   \n31385       0.0                      0.0   \n38084       0.0                      0.0   \n\ntype     Авиалинии, авиакомпании, нигде более не классифицированные   \nuser_id                                                               \n22899                                                  0.0           \\\n27914                                                  0.0            \n28753                                                  0.0            \n31385                                                  0.0            \n38084                                                  0.0            \n\ntype     Автобусные линии  Автозапчасти и аксессуары   \nuser_id                                                \n22899                 0.0                        0.0  \\\n27914                 0.0                        0.0   \n28753                 0.0                        0.0   \n31385                 0.0                        0.0   \n38084                 0.0                        0.0   \n\ntype     Автоматизированные бензозаправки  Автомойки  Автошины   \nuser_id                                                          \n22899                                 0.0        0.0       0.0  \\\n27914                                 0.0        0.0       0.0   \n28753                                 0.0        0.0       0.0   \n31385                                 0.0        0.0       0.0   \n38084                                 0.0        0.0       0.0   \n\ntype     Агентства по автотранспортным перевозкам, местные/дальные автогрузоперевозки, компании попереезду и хранению, местная доставка   \nuser_id                                                                                                                                   \n22899                                                  0.0                                                                               \\\n27914                                                  0.0                                                                                \n28753                                                  0.0                                                                                \n31385                                                  0.0                                                                                \n38084                                                  0.0                                                                                \n\ntype     Агентства по аренде автомобилей  ...  Фотостудии, фотолаборатории   \nuser_id                                   ...                                \n22899                                0.0  ...                          0.0  \\\n27914                                0.0  ...                          0.0   \n28753                                0.0  ...                          0.0   \n31385                                0.0  ...                          0.0   \n38084                                0.0  ...                          0.0   \n\ntype     Химикалии и смежные вещества, не классифицированные ранее  Химчистки   \nuser_id                                                                         \n22899                                                  0.0                0.0  \\\n27914                                                  0.0                0.0   \n28753                                                  0.0                0.0   \n31385                                                  0.0                0.0   \n38084                                                  0.0                0.0   \n\ntype     Ценные бумаги: брокеры/дилеры  Центры здоровья   \nuser_id                                                   \n22899                              0.0              0.0  \\\n27914                              0.0              0.0   \n28753                              0.0              0.0   \n31385                              0.0              0.0   \n38084                              0.0              0.0   \n\ntype     Цифровые товары, игры  Школы — бизнес и секретарей  Штрафы   \nuser_id                                                               \n22899                      0.0                          0.0     0.0  \\\n27914                      0.0                          0.0     0.0   \n28753                      0.0                          0.0     0.0   \n31385                      0.0                          0.0     0.0   \n38084                      0.0                          0.0     0.0   \n\ntype     Штучные товары, галантерея и другие текстильные товары   \nuser_id                                                           \n22899                                                  0.0       \\\n27914                                                  0.0        \n28753                                                  0.0        \n31385                                                  0.0        \n38084                                                  0.0        \n\ntype     Электрические части и оборудование  \nuser_id                                      \n22899                                   0.0  \n27914                                   0.0  \n28753                                   0.0  \n31385                                   0.0  \n38084                                   0.0  \n\n[5 rows x 185 columns]",
      "text/html": "<div>\n<style scoped>\n    .dataframe tbody tr th:only-of-type {\n        vertical-align: middle;\n    }\n\n    .dataframe tbody tr th {\n        vertical-align: top;\n    }\n\n    .dataframe thead th {\n        text-align: right;\n    }\n</style>\n<table border=\"1\" class=\"dataframe\">\n  <thead>\n    <tr style=\"text-align: right;\">\n      <th>type</th>\n      <th>gender</th>\n      <th>Авиалинии, авиакомпании</th>\n      <th>Авиалинии, авиакомпании, нигде более не классифицированные</th>\n      <th>Автобусные линии</th>\n      <th>Автозапчасти и аксессуары</th>\n      <th>Автоматизированные бензозаправки</th>\n      <th>Автомойки</th>\n      <th>Автошины</th>\n      <th>Агентства по автотранспортным перевозкам, местные/дальные автогрузоперевозки, компании попереезду и хранению, местная доставка</th>\n      <th>Агентства по аренде автомобилей</th>\n      <th>...</th>\n      <th>Фотостудии, фотолаборатории</th>\n      <th>Химикалии и смежные вещества, не классифицированные ранее</th>\n      <th>Химчистки</th>\n      <th>Ценные бумаги: брокеры/дилеры</th>\n      <th>Центры здоровья</th>\n      <th>Цифровые товары, игры</th>\n      <th>Школы — бизнес и секретарей</th>\n      <th>Штрафы</th>\n      <th>Штучные товары, галантерея и другие текстильные товары</th>\n      <th>Электрические части и оборудование</th>\n    </tr>\n    <tr>\n      <th>user_id</th>\n      <th></th>\n      <th></th>\n      <th></th>\n      <th></th>\n      <th></th>\n      <th></th>\n      <th></th>\n      <th></th>\n      <th></th>\n      <th></th>\n      <th></th>\n      <th></th>\n      <th></th>\n      <th></th>\n      <th></th>\n      <th></th>\n      <th></th>\n      <th></th>\n      <th></th>\n      <th></th>\n      <th></th>\n    </tr>\n  </thead>\n  <tbody>\n    <tr>\n      <th>22899</th>\n      <td>1.0</td>\n      <td>0.0</td>\n      <td>0.0</td>\n      <td>0.0</td>\n      <td>0.0</td>\n      <td>0.0</td>\n      <td>0.0</td>\n      <td>0.0</td>\n      <td>0.0</td>\n      <td>0.0</td>\n      <td>...</td>\n      <td>0.0</td>\n      <td>0.0</td>\n      <td>0.0</td>\n      <td>0.0</td>\n      <td>0.0</td>\n      <td>0.0</td>\n      <td>0.0</td>\n      <td>0.0</td>\n      <td>0.0</td>\n      <td>0.0</td>\n    </tr>\n    <tr>\n      <th>27914</th>\n      <td>1.0</td>\n      <td>0.0</td>\n      <td>0.0</td>\n      <td>0.0</td>\n      <td>0.0</td>\n      <td>0.0</td>\n      <td>0.0</td>\n      <td>0.0</td>\n      <td>0.0</td>\n      <td>0.0</td>\n      <td>...</td>\n      <td>0.0</td>\n      <td>0.0</td>\n      <td>0.0</td>\n      <td>0.0</td>\n      <td>0.0</td>\n      <td>0.0</td>\n      <td>0.0</td>\n      <td>0.0</td>\n      <td>0.0</td>\n      <td>0.0</td>\n    </tr>\n    <tr>\n      <th>28753</th>\n      <td>0.0</td>\n      <td>0.0</td>\n      <td>0.0</td>\n      <td>0.0</td>\n      <td>0.0</td>\n      <td>0.0</td>\n      <td>0.0</td>\n      <td>0.0</td>\n      <td>0.0</td>\n      <td>0.0</td>\n      <td>...</td>\n      <td>0.0</td>\n      <td>0.0</td>\n      <td>0.0</td>\n      <td>0.0</td>\n      <td>0.0</td>\n      <td>0.0</td>\n      <td>0.0</td>\n      <td>0.0</td>\n      <td>0.0</td>\n      <td>0.0</td>\n    </tr>\n    <tr>\n      <th>31385</th>\n      <td>0.0</td>\n      <td>0.0</td>\n      <td>0.0</td>\n      <td>0.0</td>\n      <td>0.0</td>\n      <td>0.0</td>\n      <td>0.0</td>\n      <td>0.0</td>\n      <td>0.0</td>\n      <td>0.0</td>\n      <td>...</td>\n      <td>0.0</td>\n      <td>0.0</td>\n      <td>0.0</td>\n      <td>0.0</td>\n      <td>0.0</td>\n      <td>0.0</td>\n      <td>0.0</td>\n      <td>0.0</td>\n      <td>0.0</td>\n      <td>0.0</td>\n    </tr>\n    <tr>\n      <th>38084</th>\n      <td>0.0</td>\n      <td>0.0</td>\n      <td>0.0</td>\n      <td>0.0</td>\n      <td>0.0</td>\n      <td>0.0</td>\n      <td>0.0</td>\n      <td>0.0</td>\n      <td>0.0</td>\n      <td>0.0</td>\n      <td>...</td>\n      <td>0.0</td>\n      <td>0.0</td>\n      <td>0.0</td>\n      <td>0.0</td>\n      <td>0.0</td>\n      <td>0.0</td>\n      <td>0.0</td>\n      <td>0.0</td>\n      <td>0.0</td>\n      <td>0.0</td>\n    </tr>\n  </tbody>\n</table>\n<p>5 rows × 185 columns</p>\n</div>"
     },
     "execution_count": 55,
     "metadata": {},
     "output_type": "execute_result"
    }
   ],
   "source": [
    "df3 = df2.copy(deep=True)\n",
    "min_max_scaler = MinMaxScaler()\n",
    "df3 = pd.DataFrame(min_max_scaler.fit_transform(df3), columns=df3.columns, index=df3.index)\n",
    "df3.head()"
   ]
  },
  {
   "cell_type": "markdown",
   "id": "7adad023",
   "metadata": {},
   "source": [
    "## Подбор параметров"
   ]
  },
  {
   "cell_type": "markdown",
   "id": "e3a63257",
   "metadata": {},
   "source": [
    "Подбериём наилучшие параметры для модели линейной регрессии. Важные уточнения:\n",
    "\n",
    "* используем перебор по сетке\n",
    "* в качестве метрики используем ROC AUC\n",
    "* для оценки параметров делаем кросс-валидацию на 4 фолдах"
   ]
  },
  {
   "cell_type": "code",
   "execution_count": 56,
   "outputs": [],
   "source": [
    "df3_train, df3_test = train_test_split(df3, test_size = 0.2, random_state=40) # делим в пропорции 80 к 20\n",
    "\n",
    "y_train = df3_train['gender'].to_numpy()\n",
    "y_test = df3_test['gender'].to_numpy()\n",
    "\n",
    "x_train = df3_train.drop('gender', axis=1).to_numpy()\n",
    "x_test = df3_test.drop('gender', axis=1).to_numpy()\n",
    "\n",
    "feature_names3 = df3_train.drop('gender', axis=1).columns"
   ],
   "metadata": {
    "collapsed": false
   },
   "id": "ebff6a29dba50dcc"
  },
  {
   "cell_type": "code",
   "execution_count": 57,
   "outputs": [
    {
     "name": "stdout",
     "output_type": "stream",
     "text": [
      "Лучший параметр:  {'solver': 'liblinear'}\n",
      "Лучший результат:  0.7794228231225228\n"
     ]
    }
   ],
   "source": [
    "# подберём solver\n",
    "param_grid = {\n",
    "    'solver': ['lbfgs','liblinear', 'newton-cg', 'newton-cholesky', 'sag', 'saga']\n",
    "}\n",
    "\n",
    "LG = LogisticRegression()\n",
    "GS = GridSearchCV(LG, param_grid, cv=4, scoring='roc_auc')\n",
    "GS.fit(x_train, y_train)\n",
    "\n",
    "print(\"Лучший параметр: \", GS.best_params_)\n",
    "print(\"Лучший результат: \", GS.best_score_)"
   ],
   "metadata": {
    "collapsed": false
   },
   "id": "4b3b3b0766d43440"
  },
  {
   "cell_type": "code",
   "execution_count": 59,
   "outputs": [
    {
     "name": "stdout",
     "output_type": "stream",
     "text": [
      "Лучшие параметры:  {'C': 1, 'max_iter': 100, 'penalty': 'l1', 'tol': 0.1}\n",
      "Лучший результат:  0.7956251190410902\n"
     ]
    }
   ],
   "source": [
    "# В качестве оптимального solver выдаёт liblinear, потому подберём параметры для него\n",
    "\n",
    "param_grid = {\n",
    "    'penalty': ['l1','l2'],\n",
    "    'tol': [0.0001, 0.001, 0.01, 0.1, 1, 5],\n",
    "    'C': [0.01, 0.1, 1, 10, 100],\n",
    "    'max_iter': [10, 50, 100, 500, 1000]\n",
    "}\n",
    "\n",
    "LG = LogisticRegression(solver='liblinear')\n",
    "GS = GridSearchCV(LG, param_grid, cv=4, scoring='roc_auc')\n",
    "GS.fit(x_train, y_train)\n",
    "\n",
    "print(\"Лучшие параметры: \", GS.best_params_)\n",
    "print(\"Лучший результат: \", GS.best_score_)"
   ],
   "metadata": {
    "collapsed": false
   },
   "id": "48e7b9b6231ede60"
  },
  {
   "cell_type": "markdown",
   "source": [
    "Вышли следующие результаты:\n",
    "C = 1\n",
    "max_iter = 100\n",
    "penalty = l1\n",
    "tol = 0.1"
   ],
   "metadata": {
    "collapsed": false
   },
   "id": "9c7091ab06a3e412"
  },
  {
   "cell_type": "code",
   "execution_count": 68,
   "id": "c71a5c07",
   "metadata": {},
   "outputs": [
    {
     "name": "stdout",
     "output_type": "stream",
     "text": [
      "Прогноз по всей выборке: [0.84620366 0.84581729 0.23600648 ... 0.68573042 0.68634473 0.47584648]\n",
      "Средний прогноз: 0.4416798421992695\n"
     ]
    }
   ],
   "source": [
    "#обучаем модель gо заданным параметрам\n",
    "LG = LogisticRegression(solver='liblinear', C=1, max_iter=100, penalty='l1', tol=0.1)\n",
    "LG.fit(x_train, y_train)\n",
    "\n",
    "#прогноз вероятности первого класса\n",
    "p_pred = LG.predict_proba(x_test)[:, 1]\n",
    "print(f'Прогноз по всей выборке: {p_pred}')\n",
    "print(f'Средний прогноз: {p_pred.mean()}')"
   ]
  },
  {
   "cell_type": "markdown",
   "id": "d6c296ef",
   "metadata": {},
   "source": [
    "Оценим качество лучшей модели на тестовых данных аналогично предыдущим задачам."
   ]
  },
  {
   "cell_type": "code",
   "execution_count": 70,
   "id": "a264b6ee",
   "metadata": {},
   "outputs": [],
   "source": [
    "t = 0.5\n",
    "y_pred = 1*(p_pred >= t)"
   ]
  },
  {
   "cell_type": "code",
   "execution_count": 69,
   "outputs": [
    {
     "name": "stdout",
     "output_type": "stream",
     "text": [
      "ROC_AUC: 0.8084134846832243\n",
      "Accuracy: 0.7003588516746412\n",
      "Precision 0.8111111111111111\n",
      "Recall: 0.4673495518565941\n"
     ]
    }
   ],
   "source": [
    "print('ROC_AUC:', roc_auc_score(y_test, p_pred))\n",
    "print('Accuracy:', accuracy_score(y_test, y_pred))\n",
    "print('Precision', precision_score(y_test, y_pred))\n",
    "print('Recall:', recall_score(y_test, y_pred))"
   ],
   "metadata": {
    "collapsed": false
   },
   "id": "459a26e7cd3d9d37"
  },
  {
   "cell_type": "code",
   "execution_count": 71,
   "outputs": [
    {
     "data": {
      "text/plain": "<Figure size 700x700 with 1 Axes>",
      "image/png": "[encoded data removed]"
     },
     "metadata": {},
     "output_type": "display_data"
    }
   ],
   "source": [
    "def roc_auc_pic(y_test, p_pred):\n",
    "    fpr_test, tpr_test, thresholds_test = roc_curve(y_test, p_pred)\n",
    "    roc_auc_test = roc_auc_score(y_test, p_pred)\n",
    "\n",
    "    plt.figure(figsize=(7, 7))\n",
    "    plt.plot(fpr_test, tpr_test, label='Test ROC-AUC {0}'.format(roc_auc_test))\n",
    "    plt.plot([0, 1], [0, 1], '--', color=(0.6, 0.6, 0.6))\n",
    "    plt.xlim([0, 1])\n",
    "    plt.ylim([0, 1])\n",
    "    plt.xlabel('False Positive Rate')\n",
    "    plt.ylabel('True Positive Rate')\n",
    "    plt.legend(loc='lower right')\n",
    "\n",
    "roc_auc_pic(y_test, p_pred)"
   ],
   "metadata": {
    "collapsed": false
   },
   "id": "ab0851ac35e16a5c"
  },
  {
   "cell_type": "markdown",
   "id": "a5f49648",
   "metadata": {},
   "source": [
    "Поднять качесто модели не удалось. В зависимости от итерации, качество либо незначительно выше, либо даже ниже.\n",
    "Скорее всего дело в том, что:\n",
    "1) За счёт нормализации датасета мы значительно облегчили работу модели, но это не сказалось на качестве категоризации.\n",
    "2) За счёт подбора параметров, нам удалось найти наиболее подходящие параметры для наших целей и данных, но влияние на эффективность и точность определения связь между категорями трат и гендером пользователей это не улучшило.\n",
    "3) В нашем кейсе обработка и подготовка данных имеет большее значение, чем подбор параметров.\n",
    "\n",
    "Использование кросс-валидации и отложенной тестовой выборки позволило проверить каждый набор параметров в нескольких комбинациях данных, что делает результат более зависимым от алгоритма машинного обучения, нежели от выборки данных."
   ]
  },
  {
   "cell_type": "markdown",
   "id": "4db51ec9",
   "metadata": {},
   "source": [
    "## Подбор отсечения"
   ]
  },
  {
   "cell_type": "markdown",
   "id": "9b9d5678",
   "metadata": {},
   "source": [
    "Ранее мы работали или с вероятностями из модели или с метками, полученных при отсечении по веростности с порогом 0.5.\n",
    "\n",
    "Стоит сказать, что порог 0.5 для разделения классов не всегда самый лучший. Часто нам нужно так подобрать порог, чтобы удовлетворить наши требования по точности и полноте.\n",
    "\n",
    "Давайте подберём порог, который максимизирует F_beta меру при условии, что нам полнота в 5 раз важнее точности.\n",
    "\n",
    "Вычислим наилучший порог и нарисуем график зависимости этой метрики от порога разделения."
   ]
  },
  {
   "cell_type": "code",
   "execution_count": 33,
   "id": "6133e980",
   "metadata": {},
   "outputs": [
    {
     "name": "stdout",
     "output_type": "stream",
     "text": [
      "0.25000000000000006 0.9581917704794262\n"
     ]
    },
    {
     "data": {
      "text/plain": "<Figure size 640x480 with 1 Axes>",
      "image/png": "[encoded data removed]"
     },
     "metadata": {},
     "output_type": "display_data"
    }
   ],
   "source": [
    "t = 0\n",
    "best_t = 0\n",
    "best_res = 0\n",
    "\n",
    "arr_y = []\n",
    "arr_x = []\n",
    "\n",
    "for i in range(0, 100):\n",
    "    t += 0.01\n",
    "    y_pred = 1*(p_pred >= t)\n",
    "    score = fbeta_score(y_test, y_pred, beta=5)\n",
    "    arr_y.append(score)\n",
    "    arr_x.append(t)\n",
    "    if score > best_res:\n",
    "        best_res = score\n",
    "        best_t = t\n",
    "\n",
    "def show_f_beta(x_axis, y_axis):\n",
    "    plt.plot(x_axis, y_axis)\n",
    "    plt.title('Зависимость F_beta от порога')\n",
    "    plt.xlabel('Порог')\n",
    "    plt.ylabel('F_beta')\n",
    "    plt.show()\n",
    "\n",
    "print(best_t, best_res)\n",
    "show_f_beta(arr_x, arr_y)"
   ]
  },
  {
   "cell_type": "markdown",
   "source": [
    "Если мы задаём, что полнота нам в пять раз важнее точности, то наилучшим порогом будет минимальный.\n",
    "В данном случае это значение 0.05"
   ],
   "metadata": {
    "collapsed": false
   },
   "id": "5b430780b6e8a6e1"
  },
  {
   "cell_type": "markdown",
   "id": "93723beb",
   "metadata": {},
   "source": [
    "# Часть 4: Попробуем добиться лучших результатов"
   ]
  },
  {
   "cell_type": "markdown",
   "source": [
    "Так как выяснилось, что при применении логической регрессии, в нашем кейсе подготовка данных имеет большее значение, чем подбор параметров, было решено перевести весь формат таблицы в бинарные данные, поскольку мной было предположено что сумма трат имеет не такое большое значение, как категории трат.\n",
    " Как пример такой логикик: в данном случае наиболее вероятно, что один из гендеров будет более склонен тратиться на женскую косметику. И сумма трат значения не имеет.\n",
    " Так же это позволяет уменьшить влияние каких-то общих категорий, на пример трат в магазинах общего назначения.\n",
    "\n",
    "Что же касается подбора параметров модели, то в данном случае был проведен повторый подбор всех параметров из очень большого набора вариантов, что потребовало много времени и вычислительных мощностей, потому было решено эту часть из кода убрать (она занимала десятки минут работы)."
   ],
   "metadata": {
    "collapsed": false
   },
   "id": "b97b9f76b2466dbd"
  },
  {
   "cell_type": "code",
   "execution_count": 80,
   "outputs": [
    {
     "data": {
      "text/plain": "type     gender  Авиалинии, авиакомпании   \nuser_id                                    \n22899       1.0                      0.0  \\\n27914       1.0                      0.0   \n28753       0.0                      0.0   \n31385       0.0                      0.0   \n38084       0.0                      0.0   \n\ntype     Авиалинии, авиакомпании, нигде более не классифицированные   \nuser_id                                                               \n22899                                                  0.0           \\\n27914                                                  0.0            \n28753                                                  0.0            \n31385                                                  0.0            \n38084                                                  0.0            \n\ntype     Автобусные линии  Автозапчасти и аксессуары   \nuser_id                                                \n22899                 0.0                        0.0  \\\n27914                 0.0                        0.0   \n28753                 0.0                        0.0   \n31385                 0.0                        0.0   \n38084                 0.0                        0.0   \n\ntype     Автоматизированные бензозаправки  Автомойки  Автошины   \nuser_id                                                          \n22899                                 0.0        0.0       0.0  \\\n27914                                 0.0        0.0       0.0   \n28753                                 0.0        0.0       0.0   \n31385                                 0.0        0.0       0.0   \n38084                                 0.0        0.0       0.0   \n\ntype     Агентства по автотранспортным перевозкам, местные/дальные автогрузоперевозки, компании попереезду и хранению, местная доставка   \nuser_id                                                                                                                                   \n22899                                                  0.0                                                                               \\\n27914                                                  0.0                                                                                \n28753                                                  0.0                                                                                \n31385                                                  0.0                                                                                \n38084                                                  0.0                                                                                \n\ntype     Агентства по аренде автомобилей  ...  Фотостудии, фотолаборатории   \nuser_id                                   ...                                \n22899                                0.0  ...                          0.0  \\\n27914                                0.0  ...                          0.0   \n28753                                0.0  ...                          0.0   \n31385                                0.0  ...                          0.0   \n38084                                0.0  ...                          0.0   \n\ntype     Химикалии и смежные вещества, не классифицированные ранее  Химчистки   \nuser_id                                                                         \n22899                                                  0.0                0.0  \\\n27914                                                  0.0                0.0   \n28753                                                  0.0                0.0   \n31385                                                  0.0                0.0   \n38084                                                  0.0                0.0   \n\ntype     Ценные бумаги: брокеры/дилеры  Центры здоровья   \nuser_id                                                   \n22899                              0.0              0.0  \\\n27914                              0.0              0.0   \n28753                              0.0              0.0   \n31385                              0.0              0.0   \n38084                              0.0              0.0   \n\ntype     Цифровые товары, игры  Школы — бизнес и секретарей  Штрафы   \nuser_id                                                               \n22899                      0.0                          0.0     0.0  \\\n27914                      0.0                          0.0     0.0   \n28753                      0.0                          0.0     0.0   \n31385                      0.0                          0.0     0.0   \n38084                      0.0                          0.0     0.0   \n\ntype     Штучные товары, галантерея и другие текстильные товары   \nuser_id                                                           \n22899                                                  0.0       \\\n27914                                                  0.0        \n28753                                                  0.0        \n31385                                                  0.0        \n38084                                                  0.0        \n\ntype     Электрические части и оборудование  \nuser_id                                      \n22899                                   0.0  \n27914                                   0.0  \n28753                                   0.0  \n31385                                   0.0  \n38084                                   0.0  \n\n[5 rows x 185 columns]",
      "text/html": "<div>\n<style scoped>\n    .dataframe tbody tr th:only-of-type {\n        vertical-align: middle;\n    }\n\n    .dataframe tbody tr th {\n        vertical-align: top;\n    }\n\n    .dataframe thead th {\n        text-align: right;\n    }\n</style>\n<table border=\"1\" class=\"dataframe\">\n  <thead>\n    <tr style=\"text-align: right;\">\n      <th>type</th>\n      <th>gender</th>\n      <th>Авиалинии, авиакомпании</th>\n      <th>Авиалинии, авиакомпании, нигде более не классифицированные</th>\n      <th>Автобусные линии</th>\n      <th>Автозапчасти и аксессуары</th>\n      <th>Автоматизированные бензозаправки</th>\n      <th>Автомойки</th>\n      <th>Автошины</th>\n      <th>Агентства по автотранспортным перевозкам, местные/дальные автогрузоперевозки, компании попереезду и хранению, местная доставка</th>\n      <th>Агентства по аренде автомобилей</th>\n      <th>...</th>\n      <th>Фотостудии, фотолаборатории</th>\n      <th>Химикалии и смежные вещества, не классифицированные ранее</th>\n      <th>Химчистки</th>\n      <th>Ценные бумаги: брокеры/дилеры</th>\n      <th>Центры здоровья</th>\n      <th>Цифровые товары, игры</th>\n      <th>Школы — бизнес и секретарей</th>\n      <th>Штрафы</th>\n      <th>Штучные товары, галантерея и другие текстильные товары</th>\n      <th>Электрические части и оборудование</th>\n    </tr>\n    <tr>\n      <th>user_id</th>\n      <th></th>\n      <th></th>\n      <th></th>\n      <th></th>\n      <th></th>\n      <th></th>\n      <th></th>\n      <th></th>\n      <th></th>\n      <th></th>\n      <th></th>\n      <th></th>\n      <th></th>\n      <th></th>\n      <th></th>\n      <th></th>\n      <th></th>\n      <th></th>\n      <th></th>\n      <th></th>\n      <th></th>\n    </tr>\n  </thead>\n  <tbody>\n    <tr>\n      <th>22899</th>\n      <td>1.0</td>\n      <td>0.0</td>\n      <td>0.0</td>\n      <td>0.0</td>\n      <td>0.0</td>\n      <td>0.0</td>\n      <td>0.0</td>\n      <td>0.0</td>\n      <td>0.0</td>\n      <td>0.0</td>\n      <td>...</td>\n      <td>0.0</td>\n      <td>0.0</td>\n      <td>0.0</td>\n      <td>0.0</td>\n      <td>0.0</td>\n      <td>0.0</td>\n      <td>0.0</td>\n      <td>0.0</td>\n      <td>0.0</td>\n      <td>0.0</td>\n    </tr>\n    <tr>\n      <th>27914</th>\n      <td>1.0</td>\n      <td>0.0</td>\n      <td>0.0</td>\n      <td>0.0</td>\n      <td>0.0</td>\n      <td>0.0</td>\n      <td>0.0</td>\n      <td>0.0</td>\n      <td>0.0</td>\n      <td>0.0</td>\n      <td>...</td>\n      <td>0.0</td>\n      <td>0.0</td>\n      <td>0.0</td>\n      <td>0.0</td>\n      <td>0.0</td>\n      <td>0.0</td>\n      <td>0.0</td>\n      <td>0.0</td>\n      <td>0.0</td>\n      <td>0.0</td>\n    </tr>\n    <tr>\n      <th>28753</th>\n      <td>0.0</td>\n      <td>0.0</td>\n      <td>0.0</td>\n      <td>0.0</td>\n      <td>0.0</td>\n      <td>0.0</td>\n      <td>0.0</td>\n      <td>0.0</td>\n      <td>0.0</td>\n      <td>0.0</td>\n      <td>...</td>\n      <td>0.0</td>\n      <td>0.0</td>\n      <td>0.0</td>\n      <td>0.0</td>\n      <td>0.0</td>\n      <td>0.0</td>\n      <td>0.0</td>\n      <td>0.0</td>\n      <td>0.0</td>\n      <td>0.0</td>\n    </tr>\n    <tr>\n      <th>31385</th>\n      <td>0.0</td>\n      <td>0.0</td>\n      <td>0.0</td>\n      <td>0.0</td>\n      <td>0.0</td>\n      <td>0.0</td>\n      <td>0.0</td>\n      <td>0.0</td>\n      <td>0.0</td>\n      <td>0.0</td>\n      <td>...</td>\n      <td>0.0</td>\n      <td>0.0</td>\n      <td>0.0</td>\n      <td>0.0</td>\n      <td>0.0</td>\n      <td>0.0</td>\n      <td>0.0</td>\n      <td>0.0</td>\n      <td>0.0</td>\n      <td>0.0</td>\n    </tr>\n    <tr>\n      <th>38084</th>\n      <td>0.0</td>\n      <td>0.0</td>\n      <td>0.0</td>\n      <td>0.0</td>\n      <td>0.0</td>\n      <td>0.0</td>\n      <td>0.0</td>\n      <td>0.0</td>\n      <td>0.0</td>\n      <td>0.0</td>\n      <td>...</td>\n      <td>0.0</td>\n      <td>0.0</td>\n      <td>0.0</td>\n      <td>0.0</td>\n      <td>0.0</td>\n      <td>0.0</td>\n      <td>0.0</td>\n      <td>0.0</td>\n      <td>0.0</td>\n      <td>0.0</td>\n    </tr>\n  </tbody>\n</table>\n<p>5 rows × 185 columns</p>\n</div>"
     },
     "execution_count": 80,
     "metadata": {},
     "output_type": "execute_result"
    }
   ],
   "source": [
    "df4 = df2.copy(deep=True)\n",
    "df4[df4 != 0] = 1\n",
    "df4.head()"
   ],
   "metadata": {
    "collapsed": false
   },
   "id": "62e2986d34c5440e"
  },
  {
   "cell_type": "code",
   "execution_count": 81,
   "id": "e442c16f",
   "metadata": {},
   "outputs": [],
   "source": [
    "df4_train, df4_test = train_test_split(df4, test_size = 0.2, random_state=40) # делим в пропорции 80 к 20\n",
    "\n",
    "y_train = df4_train['gender'].to_numpy()\n",
    "y_test = df4_test['gender'].to_numpy()\n",
    "\n",
    "x_train = df4_train.drop('gender', axis=1).to_numpy()\n",
    "x_test = df4_test.drop('gender', axis=1).to_numpy()\n",
    "\n",
    "feature_names4 = df4_train.drop('gender', axis=1).columns"
   ]
  },
  {
   "cell_type": "code",
   "execution_count": 82,
   "outputs": [
    {
     "name": "stdout",
     "output_type": "stream",
     "text": [
      "Прогноз по всей выборке: [0.14641571 0.86657322 0.12453656 ... 0.90316545 0.9732032  0.60088428]\n",
      "Средний прогноз: 0.44174010136468644\n"
     ]
    }
   ],
   "source": [
    "#обучаем модель\n",
    "LG = LogisticRegression(solver='newton-cholesky', C=0.1, max_iter=10, penalty='l2', tol=0.000001)\n",
    "LG.fit(x_train, y_train)\n",
    "\n",
    "#прогноз вероятности первого класса\n",
    "p_pred = LG.predict_proba(x_test)[:, 1]\n",
    "print(f'Прогноз по всей выборке: {p_pred}')\n",
    "print(f'Средний прогноз: {p_pred.mean()}')"
   ],
   "metadata": {
    "collapsed": false
   },
   "id": "c1e399221f7fc8ab"
  },
  {
   "cell_type": "code",
   "execution_count": 83,
   "outputs": [],
   "source": [
    "# Воспользуемся подобранным ранее значением порога для максимизации f_beta\n",
    "t = 0.05\n",
    "y_pred = 1*(p_pred >= t)"
   ],
   "metadata": {
    "collapsed": false
   },
   "id": "4485a62d1ef10f24"
  },
  {
   "cell_type": "code",
   "execution_count": 84,
   "outputs": [
    {
     "name": "stdout",
     "output_type": "stream",
     "text": [
      "ROC_AUC: 0.8480436747615578\n",
      "Accuracy: 0.5418660287081339\n",
      "Precision 0.5048543689320388\n",
      "Recall: 0.998719590268886\n"
     ]
    }
   ],
   "source": [
    "print('ROC_AUC:', roc_auc_score(y_test, p_pred))\n",
    "print('Accuracy:', accuracy_score(y_test, y_pred))\n",
    "print('Precision', precision_score(y_test, y_pred))\n",
    "print('Recall:', recall_score(y_test, y_pred))"
   ],
   "metadata": {
    "collapsed": false
   },
   "id": "803f486f7632ce6f"
  },
  {
   "cell_type": "code",
   "execution_count": 86,
   "outputs": [
    {
     "data": {
      "text/plain": "<Figure size 700x700 with 1 Axes>",
      "image/png": "[encoded data removed]"
     },
     "metadata": {},
     "output_type": "display_data"
    }
   ],
   "source": [
    "def roc_auc_pic(y_test, p_pred):\n",
    "    fpr_test, tpr_test, thresholds_test = roc_curve(y_test, p_pred)\n",
    "    roc_auc_test = roc_auc_score(y_test, p_pred)\n",
    "\n",
    "    plt.figure(figsize=(7, 7))\n",
    "    plt.plot(fpr_test, tpr_test, label='Test ROC-AUC {0}'.format(roc_auc_test))\n",
    "    plt.plot([0, 1], [0, 1], '--', color=(0.6, 0.6, 0.6))\n",
    "    plt.xlim([0, 1])\n",
    "    plt.ylim([0, 1])\n",
    "    plt.xlabel('False Positive Rate')\n",
    "    plt.ylabel('True Positive Rate')\n",
    "    plt.legend(loc='lower right')\n",
    "\n",
    "roc_auc_pic(y_test, p_pred)"
   ],
   "metadata": {
    "collapsed": false
   },
   "id": "a62b1366b9572e68"
  },
  {
   "cell_type": "markdown",
   "source": [
    "# Итоговый результат составил roc_auc = 0.85*\n",
    "*при округлении до двух знаков"
   ],
   "metadata": {
    "collapsed": false
   },
   "id": "aee43a867a8011f2"
  }
 ],
 "metadata": {
  "kernelspec": {
   "display_name": "Python 3 (ipykernel)",
   "language": "python",
   "name": "python3"
  },
  "language_info": {
   "codemirror_mode": {
    "name": "ipython",
    "version": 3
   },
   "file_extension": ".py",
   "mimetype": "text/x-python",
   "name": "python",
   "nbconvert_exporter": "python",
   "pygments_lexer": "ipython3",
   "version": "3.9.7"
  }
 },
 "nbformat": 4,
 "nbformat_minor": 5
}
